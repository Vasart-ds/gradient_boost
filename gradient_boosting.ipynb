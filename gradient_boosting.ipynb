{
 "cells": [
  {
   "cell_type": "markdown",
   "id": "0955b2a8",
   "metadata": {},
   "source": [
    "## Введение ##\n",
    "\n",
    "Добро пожаловать!\n",
    "\n",
    "Данный проект посвящен теме \"Градиентный бустинг\" и выполнен в рамках учебного курса от \"Яндекс.Практикум\" студентом XV когорты курса \"Data Science+\" Васюхиным Артёмом.\n",
    "\n",
    "В этом проекте мы рассмотрим базу данных компании по продаже подержанных автомобилей \"Не бит, не крашен\", которая намерена разработать мобильное приложение для своего сервиса. Внутри приложения будет возможность быстрой оценки продаваемого автомобиля. Соответственно, наша задача - разработать модель по предсказанию цены авто.\n",
    "\n",
    "**Описание данных**\n",
    "\n",
    "***Признаки***\n",
    "* DateCrawled — дата скачивания анкеты из базы\n",
    "* VehicleType — тип автомобильного кузова\n",
    "* RegistrationYear — год регистрации автомобиля\n",
    "* Gearbox — тип коробки передач\n",
    "* Power — мощность (л. с.)\n",
    "* Model — модель автомобиля\n",
    "* Kilometer — пробег (км)\n",
    "* RegistrationMonth — месяц регистрации автомобиля\n",
    "* FuelType — тип топлива\n",
    "* Brand — марка автомобиля\n",
    "* Repaired — была машина в ремонте или нет\n",
    "* DateCreated — дата создания анкеты\n",
    "* NumberOfPictures — количество фотографий автомобиля\n",
    "* PostalCode — почтовый индекс владельца анкеты (пользователя)\n",
    "* LastSeen — дата последней активности пользователя\n",
    "    \n",
    "***Целевой признак***\n",
    "* Price — цена (евро)"
   ]
  },
  {
   "cell_type": "markdown",
   "id": "ea0a2732",
   "metadata": {},
   "source": [
    "## Импорт библиотек и датасета ##"
   ]
  },
  {
   "cell_type": "code",
   "execution_count": 1,
   "id": "7b0918fb",
   "metadata": {},
   "outputs": [],
   "source": [
    "import pandas as pd\n",
    "import numpy as np\n",
    "import matplotlib as plt"
   ]
  },
  {
   "cell_type": "code",
   "execution_count": null,
   "id": "37a762b8",
   "metadata": {},
   "outputs": [],
   "source": []
  }
 ],
 "metadata": {
  "kernelspec": {
   "display_name": "Python 3 (ipykernel)",
   "language": "python",
   "name": "python3"
  },
  "language_info": {
   "codemirror_mode": {
    "name": "ipython",
    "version": 3
   },
   "file_extension": ".py",
   "mimetype": "text/x-python",
   "name": "python",
   "nbconvert_exporter": "python",
   "pygments_lexer": "ipython3",
   "version": "3.9.12"
  },
  "toc": {
   "base_numbering": 1,
   "nav_menu": {},
   "number_sections": true,
   "sideBar": true,
   "skip_h1_title": false,
   "title_cell": "Table of Contents",
   "title_sidebar": "Contents",
   "toc_cell": false,
   "toc_position": {},
   "toc_section_display": true,
   "toc_window_display": false
  }
 },
 "nbformat": 4,
 "nbformat_minor": 5
}
